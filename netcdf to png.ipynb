{
 "cells": [
  {
   "cell_type": "code",
   "execution_count": 1980,
   "metadata": {},
   "outputs": [],
   "source": [
    "import matplotlib.pyplot as plt\n",
    "import netCDF4\n",
    "from scipy.ndimage import rotate\n",
    "import numpy as np\n",
    "\n",
    "\n",
    "# open a local NetCDF file or remote OPeNDAP URL\n",
    "nc = netCDF4.Dataset('data_AMJJASO.nc')\n",
    "nc.set_auto_mask(False)\n",
    "\n",
    "var = nc.variables['burned_area'][:]\n",
    "\n",
    "var1=nc.variables['cape'][:]\n",
    "\n",
    "min_val = np.min(var1)\n",
    "max_val = np.max(var1)\n",
    "scaled_arr = (var1 - min_val) * (255.0 / (max_val - min_val))\n",
    "\n",
    "\n",
    "\n",
    "var[var< -10000000000]=0\n",
    "var[var> 0]=1\n",
    "\n",
    "\n"
   ]
  },
  {
   "cell_type": "code",
   "execution_count": 1981,
   "metadata": {},
   "outputs": [],
   "source": [
    "arr=np.delete(var, (0), axis=1)"
   ]
  },
  {
   "cell_type": "code",
   "execution_count": 1982,
   "metadata": {},
   "outputs": [],
   "source": [
    "arr1=np.delete(arr, (0), axis=2)"
   ]
  },
  {
   "cell_type": "code",
   "execution_count": 1983,
   "metadata": {},
   "outputs": [
    {
     "name": "stdout",
     "output_type": "stream",
     "text": [
      "(114, 50, 500) (114, 50, 500)\n"
     ]
    }
   ],
   "source": [
    "tile1, tile2, tile3 , tile4, tile5, tile6= np.split(arr1, 6, axis=1) #Array, num of splits, axis for splitting\n",
    "print(tile1.shape, tile2.shape)"
   ]
  },
  {
   "cell_type": "code",
   "execution_count": 1984,
   "metadata": {},
   "outputs": [
    {
     "name": "stdout",
     "output_type": "stream",
     "text": [
      "(114, 50, 50) (114, 50, 50)\n"
     ]
    }
   ],
   "source": [
    "tile1_1, tile1_2, tile1_3,tile1_4,tile1_5, tile1_6, tile1_7,tile1_8,tile1_9,tile1_10 = np.split(tile1, 10, axis=2) #Array, num of splits, axis for splitting\n",
    "print(tile1_1.shape, tile1_2.shape)"
   ]
  },
  {
   "cell_type": "code",
   "execution_count": 1985,
   "metadata": {},
   "outputs": [
    {
     "name": "stdout",
     "output_type": "stream",
     "text": [
      "(114, 50, 50) (114, 50, 50)\n"
     ]
    }
   ],
   "source": [
    "tile2_1, tile2_2, tile2_3,tile2_4,tile2_5,tile2_6, tile2_7,tile2_8,tile2_9,tile2_10 = np.split(tile2, 10, axis=2) #Array, num of splits, axis for splitting\n",
    "print(tile2_1.shape, tile2_2.shape)"
   ]
  },
  {
   "cell_type": "code",
   "execution_count": 1986,
   "metadata": {},
   "outputs": [
    {
     "name": "stdout",
     "output_type": "stream",
     "text": [
      "(114, 50, 50) (114, 50, 50)\n"
     ]
    }
   ],
   "source": [
    "tile3_1, tile3_2, tile3_3,tile3_4,tile3_5,tile3_6,tile3_7,tile3_8, tile3_9,tile3_10 = np.split(tile3, 10, axis=2) #Array, num of splits, axis for splitting\n",
    "print(tile3_1.shape, tile3_2.shape)"
   ]
  },
  {
   "cell_type": "code",
   "execution_count": 1987,
   "metadata": {},
   "outputs": [
    {
     "name": "stdout",
     "output_type": "stream",
     "text": [
      "(114, 50, 50) (114, 50, 50)\n"
     ]
    }
   ],
   "source": [
    "tile4_1, tile4_2, tile4_3,tile4_4,tile4_5,tile4_6,tile4_7,tile4_8, tile4_9,tile4_10 = np.split(tile4, 10, axis=2) #Array, num of splits, axis for splitting\n",
    "print(tile4_1.shape, tile4_2.shape)"
   ]
  },
  {
   "cell_type": "code",
   "execution_count": 1988,
   "metadata": {},
   "outputs": [
    {
     "name": "stdout",
     "output_type": "stream",
     "text": [
      "(114, 50, 50) (114, 50, 50)\n"
     ]
    }
   ],
   "source": [
    "tile5_1, tile5_2, tile5_3,tile5_4,tile5_5,tile5_6,tile5_7,tile5_8, tile5_9,tile5_10 = np.split(tile5, 10, axis=2) #Array, num of splits, axis for splitting\n",
    "print(tile5_1.shape, tile5_2.shape)"
   ]
  },
  {
   "cell_type": "code",
   "execution_count": 1989,
   "metadata": {},
   "outputs": [
    {
     "name": "stdout",
     "output_type": "stream",
     "text": [
      "(114, 50, 50) (114, 50, 50)\n"
     ]
    }
   ],
   "source": [
    "tile6_1, tile6_2, tile6_3,tile6_4,tile6_5,tile6_6,tile6_7,tile6_8, tile6_9,tile6_10 = np.split(tile6, 10, axis=2) #Array, num of splits, axis for splitting\n",
    "print(tile6_1.shape, tile6_2.shape)"
   ]
  },
  {
   "cell_type": "code",
   "execution_count": 1990,
   "metadata": {},
   "outputs": [],
   "source": [
    "tiles = {\n",
    "    'tile1_1': tile1_1, 'tile1_2': tile1_2, 'tile1_3': tile1_3, 'tile1_4': tile1_4, 'tile1_5': tile1_5,\n",
    "    'tile1_6': tile1_6, 'tile1_7': tile1_7, 'tile1_8': tile1_8, 'tile1_9': tile1_9, 'tile1_10': tile1_10,\n",
    "    'tile2_1': tile2_1, 'tile2_2': tile2_2, 'tile2_3': tile2_3, 'tile2_4': tile2_4, 'tile2_5': tile2_5,\n",
    "    'tile2_6': tile2_6, 'tile2_7': tile2_7, 'tile2_8': tile2_8, 'tile2_9': tile2_9, 'tile2_10': tile2_10,\n",
    "    'tile3_1': tile3_1, 'tile3_2': tile3_2, 'tile3_3': tile3_3, 'tile3_4': tile3_4, 'tile3_5': tile3_5,\n",
    "    'tile3_6': tile3_6, 'tile3_7': tile3_7, 'tile3_8': tile3_8, 'tile3_9': tile3_9, 'tile3_10': tile3_10,\n",
    "    'tile4_1': tile4_1, 'tile4_2': tile4_2, 'tile4_3': tile4_3, 'tile4_4': tile4_4, 'tile4_5': tile4_5,\n",
    "    'tile4_6': tile4_6, 'tile4_7': tile4_7, 'tile4_8': tile4_8, 'tile4_9': tile4_9, 'tile4_10': tile4_10,\n",
    "    'tile5_1': tile5_1, 'tile5_2': tile5_2, 'tile5_3': tile5_3, 'tile5_4': tile5_4, 'tile5_5': tile5_5,\n",
    "    'tile5_6': tile5_6, 'tile5_7': tile5_7, 'tile5_8': tile5_8, 'tile5_9': tile5_9, 'tile5_10': tile5_10,\n",
    "    'tile6_1': tile6_1, 'tile6_2': tile6_2, 'tile6_3': tile6_3, 'tile6_4': tile6_4, 'tile6_5': tile6_5,\n",
    "    'tile6_6': tile6_6, 'tile6_7': tile6_7, 'tile6_8': tile6_8, 'tile6_9': tile6_9, 'tile6_10': tile6_10\n",
    "}\n"
   ]
  },
  {
   "cell_type": "code",
   "execution_count": 1991,
   "metadata": {},
   "outputs": [],
   "source": [
    "arr_var=np.delete(scaled_arr, (0), axis=1)\n",
    "arr1_var=np.delete(arr_var, (0), axis=2)"
   ]
  },
  {
   "cell_type": "code",
   "execution_count": 1992,
   "metadata": {},
   "outputs": [
    {
     "name": "stdout",
     "output_type": "stream",
     "text": [
      "(114, 50, 500) (114, 50, 500)\n"
     ]
    }
   ],
   "source": [
    "tile_var1, tile_var2, tile_var3 , tile_var4, tile_var5, tile_var6= np.split(arr1_var, 6, axis=1) #Array, num of splits, axis for splitting\n",
    "print(tile_var1.shape, tile_var2.shape)"
   ]
  },
  {
   "cell_type": "code",
   "execution_count": 1993,
   "metadata": {},
   "outputs": [
    {
     "name": "stdout",
     "output_type": "stream",
     "text": [
      "(114, 50, 50) (114, 50, 50)\n"
     ]
    }
   ],
   "source": [
    "tile_var1_1, tile_var1_2, tile_var1_3, tile_var1_4, tile_var1_5, tile_var1_6, tile_var1_7, tile_var1_8, tile_var1_9, tile_var1_10 = np.split(tile_var1, 10, axis=2) #Array, num of splits, axis for splitting\n",
    "print(tile_var1_1.shape, tile_var1_2.shape)\n"
   ]
  },
  {
   "cell_type": "code",
   "execution_count": 1994,
   "metadata": {},
   "outputs": [
    {
     "name": "stdout",
     "output_type": "stream",
     "text": [
      "(114, 50, 50) (114, 50, 50)\n"
     ]
    }
   ],
   "source": [
    "tile_var2_1, tile_var2_2, tile_var2_3, tile_var2_4, tile_var2_5, tile_var2_6, tile_var2_7, tile_var2_8, tile_var2_9, tile_var2_10 = np.split(tile_var2, 10, axis=2) #Array, num of splits, axis for splitting\n",
    "print(tile_var2_1.shape, tile_var2_2.shape)\n"
   ]
  },
  {
   "cell_type": "code",
   "execution_count": 1995,
   "metadata": {},
   "outputs": [
    {
     "name": "stdout",
     "output_type": "stream",
     "text": [
      "(114, 50, 50) (114, 50, 50)\n"
     ]
    }
   ],
   "source": [
    "tile_var3_1, tile_var3_2, tile_var3_3, tile_var3_4, tile_var3_5, tile_var3_6, tile_var3_7, tile_var3_8, tile_var3_9, tile_var3_10 = np.split(tile_var3, 10, axis=2) #Array, num of splits, axis for splitting\n",
    "print(tile_var3_1.shape, tile_var3_2.shape)\n"
   ]
  },
  {
   "cell_type": "code",
   "execution_count": 1996,
   "metadata": {},
   "outputs": [
    {
     "name": "stdout",
     "output_type": "stream",
     "text": [
      "(114, 50, 50) (114, 50, 50)\n"
     ]
    }
   ],
   "source": [
    "tile_var4_1, tile_var4_2, tile_var4_3, tile_var4_4, tile_var4_5, tile_var4_6, tile_var4_7, tile_var4_8, tile_var4_9, tile_var4_10 = np.split(tile_var4, 10, axis=2) #Array, num of splits, axis for splitting\n",
    "print(tile_var4_1.shape, tile_var4_2.shape)\n"
   ]
  },
  {
   "cell_type": "code",
   "execution_count": 1997,
   "metadata": {},
   "outputs": [
    {
     "name": "stdout",
     "output_type": "stream",
     "text": [
      "(114, 50, 50) (114, 50, 50)\n"
     ]
    }
   ],
   "source": [
    "tile_var5_1, tile_var5_2, tile_var5_3, tile_var5_4, tile_var5_5, tile_var5_6, tile_var5_7, tile_var5_8, tile_var5_9, tile_var5_10 = np.split(tile_var5, 10, axis=2) #Array, num of splits, axis for splitting\n",
    "print(tile_var5_1.shape, tile_var5_2.shape)\n"
   ]
  },
  {
   "cell_type": "code",
   "execution_count": 1998,
   "metadata": {},
   "outputs": [
    {
     "name": "stdout",
     "output_type": "stream",
     "text": [
      "(114, 50, 50) (114, 50, 50)\n"
     ]
    }
   ],
   "source": [
    "tile_var6_1, tile_var6_2, tile_var6_3, tile_var6_4, tile_var6_5, tile_var6_6, tile_var6_7, tile_var6_8, tile_var6_9, tile_var6_10 = np.split(tile_var6, 10, axis=2) #Array, num of splits, axis for splitting\n",
    "print(tile_var6_1.shape, tile_var6_2.shape)\n"
   ]
  },
  {
   "cell_type": "code",
   "execution_count": 1999,
   "metadata": {},
   "outputs": [],
   "source": [
    "tiles_var = {\n",
    "    'tile_var1_1': tile_var1_1, 'tile_var1_2': tile_var1_2, 'tile_var1_3': tile_var1_3, 'tile_var1_4': tile_var1_4, 'tile_var1_5': tile_var1_5,\n",
    "    'tile_var1_6': tile_var1_6, 'tile_var1_7': tile_var1_7, 'tile_var1_8': tile_var1_8, 'tile_var1_9': tile_var1_9, 'tile_var1_10': tile_var1_10,\n",
    "    'tile_var2_1': tile_var2_1, 'tile_var2_2': tile_var2_2, 'tile_var2_3': tile_var2_3, 'tile_var2_4': tile_var2_4, 'tile_var2_5': tile_var2_5,\n",
    "    'tile_var2_6': tile_var2_6, 'tile_var2_7': tile_var2_7, 'tile_var2_8': tile_var2_8, 'tile_var2_9': tile_var2_9, 'tile_var2_10': tile_var2_10,\n",
    "    'tile_var3_1': tile_var3_1, 'tile_var3_2': tile_var3_2, 'tile_var3_3': tile_var3_3, 'tile_var3_4': tile_var3_4, 'tile_var3_5': tile_var3_5,\n",
    "    'tile_var3_6': tile_var3_6, 'tile_var3_7': tile_var3_7, 'tile_var3_8': tile_var3_8, 'tile_var3_9': tile_var3_9, 'tile_var3_10': tile_var3_10,\n",
    "    'tile_var4_1': tile_var4_1, 'tile_var4_2': tile_var4_2, 'tile_var4_3': tile_var4_3, 'tile_var4_4': tile_var4_4, 'tile_var4_5': tile_var4_5,\n",
    "    'tile_var4_6': tile_var4_6, 'tile_var4_7': tile_var4_7, 'tile_var4_8': tile_var4_8, 'tile_var4_9': tile_var4_9, 'tile_var4_10': tile_var4_10,\n",
    "    'tile_var5_1': tile_var5_1, 'tile_var5_2': tile_var5_2, 'tile_var5_3': tile_var5_3, 'tile_var5_4': tile_var5_4, 'tile_var5_5': tile_var5_5,\n",
    "    'tile_var5_6': tile_var5_6, 'tile_var5_7': tile_var5_7, 'tile_var5_8': tile_var5_8, 'tile_var5_9': tile_var5_9, 'tile_var5_10': tile_var5_10,\n",
    "    'tile_var6_1': tile_var6_1, 'tile_var6_2': tile_var6_2, 'tile_var6_3': tile_var6_3, 'tile_var6_4': tile_var6_4, 'tile_var6_5': tile_var6_5,\n",
    "    'tile_var6_6': tile_var6_6, 'tile_var6_7': tile_var6_7, 'tile_var6_8': tile_var6_8, 'tile_var6_9': tile_var6_9, 'tile_var6_10': tile_var6_10\n",
    "}\n"
   ]
  },
  {
   "cell_type": "code",
   "execution_count": 2000,
   "metadata": {},
   "outputs": [
    {
     "data": {
      "text/plain": [
       "\"for x in range(1,7):\\n    for y in range(1,11):\\n        tile_key = f'tile{x}_{y}'\\n        tile_key_var=f'tile_var{x}_{y}'\\n\\n        topo = tiles[tile_key]\\n        topo_var=tiles_var[tile_key_var]\\n        \\n        for i in range(0,114):\\n            \\n            frame = topo[i, :, :] \\n            frame_var=topo_var[i,:,:]\\n            frame_dropped=np.delete(frame, (2), axis=1)\\n            frame_dropped1=np.delete(frame_dropped, (2), axis=2)\\n\\n            if np.sum(frame)>500:\\n                plt.figure(figsize=(1.28,1.28), dpi=100)\\n                plt.imshow(frame_var, cmap='gray_r', interpolation= 'none') \\n                plt.axis('off')\\n                plt.savefig(f'{'pngs/tiles50x50_ex2'}/tile{x}_{y}_var13_sample_{i}.png', pad_inches=0 , dpi=100)\\n                plt.close()\\n            else:\\n                continue\""
      ]
     },
     "execution_count": 2000,
     "metadata": {},
     "output_type": "execute_result"
    }
   ],
   "source": [
    "# sample every 10th point of the 'z' variable\n",
    "'''for x in range(1,7):\n",
    "    for y in range(1,11):\n",
    "        tile_key = f'tile{x}_{y}'\n",
    "        tile_key_var=f'tile_var{x}_{y}'\n",
    "\n",
    "        topo = tiles[tile_key]\n",
    "        topo_var=tiles_var[tile_key_var]\n",
    "        \n",
    "        for i in range(0,114):\n",
    "            \n",
    "            frame = topo[i, :, :] \n",
    "            frame_var=topo_var[i,:,:]\n",
    "            frame_dropped=np.delete(frame, (2), axis=1)\n",
    "            frame_dropped1=np.delete(frame_dropped, (2), axis=2)\n",
    "\n",
    "            if np.sum(frame)>500:\n",
    "                plt.figure(figsize=(1.28,1.28), dpi=100)\n",
    "                plt.imshow(frame_var, cmap='gray_r', interpolation= 'none') \n",
    "                plt.axis('off')\n",
    "                plt.savefig(f'{'pngs/tiles50x50_ex2'}/tile{x}_{y}_var13_sample_{i}.png', pad_inches=0 , dpi=100)\n",
    "                plt.close()\n",
    "            else:\n",
    "                continue'''\n"
   ]
  },
  {
   "cell_type": "code",
   "execution_count": 2001,
   "metadata": {},
   "outputs": [],
   "source": [
    "from PIL import Image"
   ]
  },
  {
   "cell_type": "code",
   "execution_count": 2002,
   "metadata": {},
   "outputs": [],
   "source": [
    "import os"
   ]
  },
  {
   "cell_type": "code",
   "execution_count": 2003,
   "metadata": {},
   "outputs": [],
   "source": [
    "# sample every 10th point of the 'z' variable\n",
    "\n",
    "output_dir = 'pngs/tiles48x48'\n",
    "os.makedirs(output_dir, exist_ok=True)\n",
    "\n",
    "for x in range(1,7):\n",
    "    for y in range(1,11):\n",
    "        tile_key = f'tile{x}_{y}'\n",
    "        tile_key_var=f'tile_var{x}_{y}'\n",
    "\n",
    "        topo = tiles[tile_key]\n",
    "        topo_var=tiles_var[tile_key_var]\n",
    "        \n",
    "        for i in range(0,114):\n",
    "            \n",
    "            frame = topo[i, :, :] \n",
    "            frame_var=topo_var[i,:,:]\n",
    "\n",
    "            frame_dropped=np.delete(frame, (0,1), axis=0)\n",
    "            frame_dropped1=np.delete(frame_dropped, (0,1), axis=1)\n",
    "            frame_var_dropped=np.delete(frame_var, (0,1), axis=0)\n",
    "            frame_var_dropped1=np.delete(frame_var_dropped, (0,1), axis=1)\n",
    "\n",
    "            if np.sum(frame_dropped1)>250:\n",
    "                frame_var_dropped1=frame_var_dropped1.astype(np.uint8)\n",
    "                frame_dropped1=frame_dropped1.astype(np.bool_)\n",
    "\n",
    "                img=Image.fromarray(frame_var_dropped1)\n",
    "\n",
    "                img.save(f'{output_dir}/tile{x}_{y}_var13_sample_{i}.png')\n",
    "            \n",
    "               \n",
    "            else:\n",
    "                continue"
   ]
  },
  {
   "cell_type": "code",
   "execution_count": 2004,
   "metadata": {},
   "outputs": [
    {
     "data": {
      "text/plain": [
       "'\\nvar0=v10\\nvar1=u10\\nvar2=tp\\nvar3=tcc\\nvar4=t2m\\nvar5=swvl1\\nvar6=sst\\nvar7=ssr\\nvar8=msl\\nvar9=e\\nvar10=cvl\\nvar11=cvh\\nvar12=cp\\nvar13=cape\\n'"
      ]
     },
     "execution_count": 2004,
     "metadata": {},
     "output_type": "execute_result"
    }
   ],
   "source": [
    "'''\n",
    "var0=v10\n",
    "var1=u10\n",
    "var2=tp\n",
    "var3=tcc\n",
    "var4=t2m\n",
    "var5=swvl1\n",
    "var6=sst\n",
    "var7=ssr\n",
    "var8=msl\n",
    "var9=e\n",
    "var10=cvl\n",
    "var11=cvh\n",
    "var12=cp\n",
    "var13=cape\n",
    "'''"
   ]
  }
 ],
 "metadata": {
  "kernelspec": {
   "display_name": "appmlenv",
   "language": "python",
   "name": "python3"
  },
  "language_info": {
   "codemirror_mode": {
    "name": "ipython",
    "version": 3
   },
   "file_extension": ".py",
   "mimetype": "text/x-python",
   "name": "python",
   "nbconvert_exporter": "python",
   "pygments_lexer": "ipython3",
   "version": "3.12.3"
  },
  "orig_nbformat": 4,
  "vscode": {
   "interpreter": {
    "hash": "288b87f50291b5c427c15ca7e74d25c64dcea0fedf5f6a2ae72a46b59cb695f4"
   }
  }
 },
 "nbformat": 4,
 "nbformat_minor": 2
}
